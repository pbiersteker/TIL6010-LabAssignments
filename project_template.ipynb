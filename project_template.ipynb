{
 "cells": [
  {
   "cell_type": "markdown",
   "metadata": {},
   "source": [
    "# Project Group - \n",
    "\n",
    "Members: Tessa van der Hulst, Maartje van den Broek, Lara de Geus and Pien Biersteker\n",
    "\n",
    "Student numbers: 4963601, 4964837, 4965868, 4888375"
   ]
  },
  {
   "cell_type": "markdown",
   "metadata": {},
   "source": [
    "# Research Objective\n",
    "\n",
    "*Requires data modeling and quantitative research in Transport, Infrastructure & Logistics*"
   ]
  },
  {
   "cell_type": "markdown",
   "metadata": {},
   "source": [
    "How does the fluctuation of fuel prices affect the car utilization per year in the Netherlands?"
   ]
  },
  {
   "cell_type": "markdown",
   "metadata": {},
   "source": [
    "# Contribution Statement\n",
    "\n",
    "*Be specific. Some of the tasks can be coding (expect everyone to do this), background research, conceptualisation, visualisation, data analysis, data modelling*"
   ]
  },
  {
   "cell_type": "markdown",
   "metadata": {},
   "source": [
    "**Tessa van der Hulst**: brainstorm for an subject in Transport Infrastructure & Logistics domain, search for datasets, find out how the dataset works for the utilization of cars works.  \n",
    "\n",
    "**Lara de Geus**: brainstorm for an subject in Transport Infrastructure & Logistics domain, search for datasets, find out how the dataset works for the utilization of cars works.\n",
    "\n",
    "**Maartje van den Broek**: brainstorm for an subject in Transport Infrastructure & Logistics domain, search for datasets, find out how the dataset on petrol prices works \n",
    "\n",
    "**Pien Biersteker**: brainstorm for an subject in Transport Infrastructure & Logistics domain, search for datasets, find out how the dataset on petrol prices works "
   ]
  },
  {
   "cell_type": "markdown",
   "metadata": {},
   "source": [
    "# Data Used"
   ]
  },
  {
   "cell_type": "markdown",
   "metadata": {},
   "source": [
    "Fuelprices 2006 til 2022\n",
    "https://opendata.cbs.nl/statline/portal.html?_la=nl&_catalog=CBS&tableId=80416ned&_theme=426 \n",
    "\n",
    "Traffic use 1990 til 2020\n",
    "https://opendata.cbs.nl/#/CBS/nl/dataset/80428ned/table \n"
   ]
  },
  {
   "cell_type": "markdown",
   "metadata": {},
   "source": [
    "# Data Pipeline"
   ]
  },
  {
   "cell_type": "markdown",
   "metadata": {},
   "source": []
  }
 ],
 "metadata": {
  "kernelspec": {
   "display_name": "Python 3 (ipykernel)",
   "language": "python",
   "name": "python3"
  },
  "language_info": {
   "codemirror_mode": {
    "name": "ipython",
    "version": 3
   },
   "file_extension": ".py",
   "mimetype": "text/x-python",
   "name": "python",
   "nbconvert_exporter": "python",
   "pygments_lexer": "ipython3",
   "version": "3.7.13"
  },
  "vscode": {
   "interpreter": {
    "hash": "31f2aee4e71d21fbe5cf8b01ff0e069b9275f58929596ceb00d14d90e3e16cd6"
   }
  }
 },
 "nbformat": 4,
 "nbformat_minor": 2
}
